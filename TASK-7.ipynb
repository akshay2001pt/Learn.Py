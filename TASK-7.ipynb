{
  "nbformat": 4,
  "nbformat_minor": 0,
  "metadata": {
    "colab": {
      "name": "TASK  7.ipynb",
      "provenance": [],
      "include_colab_link": true
    },
    "kernelspec": {
      "name": "python3",
      "display_name": "Python 3"
    },
    "language_info": {
      "name": "python"
    }
  },
  "cells": [
    {
      "cell_type": "markdown",
      "metadata": {
        "id": "view-in-github",
        "colab_type": "text"
      },
      "source": [
        "<a href=\"https://colab.research.google.com/github/akshay2001pt/Learn.Py/blob/main/TASK-7.ipynb\" target=\"_parent\"><img src=\"https://colab.research.google.com/assets/colab-badge.svg\" alt=\"Open In Colab\"/></a>"
      ]
    },
    {
      "cell_type": "markdown",
      "metadata": {
        "id": "b0V3vwzcydKy"
      },
      "source": [
        "1. Write a program to check whether a  string is palindrome or not using functions. \n",
        "\n",
        "   ( A function is to be created to check whether the string is palindrome and it should give the output true or false to the main program)"
      ]
    },
    {
      "cell_type": "code",
      "metadata": {
        "id": "M2Mi7EOdyxiu",
        "outputId": "065a5690-d62e-4116-fddc-bed5ef9101ba",
        "colab": {
          "base_uri": "https://localhost:8080/"
        }
      },
      "source": [
        "#please enter the code below this line.\n",
        " \n",
        "def isPalindrome(s):\n",
        " \n",
        "    return s == s[::-1]\n",
        " \n",
        "s = \"malayalam\"\n",
        " \n",
        "ans = isPalindrome(s)\n",
        " \n",
        " \n",
        "if ans:\n",
        " \n",
        "    print(\"Yes\")\n",
        " \n",
        "else:\n",
        " \n",
        "    print(\"No\")"
      ],
      "execution_count": 2,
      "outputs": [
        {
          "output_type": "stream",
          "text": [
            "Yes\n"
          ],
          "name": "stdout"
        }
      ]
    },
    {
      "cell_type": "markdown",
      "metadata": {
        "id": "vSiShTyOzEz-"
      },
      "source": [
        "2.  Write a menu driven program to find largest element in L, smallest element, avg of all values, sum of all values in L. All these operation should be performed in different functions and the result should be returned.\n",
        "\n",
        "\n",
        "      L=[23,24,11,90,1,41,9,99,28,56,72]"
      ]
    },
    {
      "cell_type": "code",
      "metadata": {
        "id": "fRtMIw_CzsmO",
        "outputId": "6a0ad4c9-c463-4dc4-cff9-15aa2bb23752",
        "colab": {
          "base_uri": "https://localhost:8080/"
        }
      },
      "source": [
        "#please enter the code below this line.\n",
        "def Average(lst): \n",
        " \n",
        "    return sum(lst) / len(lst)\n",
        " \n",
        "total = 0\n",
        " \n",
        "list1 =[23,24,11,90,1,41,9,99,28,56,72]\n",
        " \n",
        "list1.sort()\n",
        " \n",
        "average = Average(list1)\n",
        " \n",
        "for ele in range(0, len(list1)):\n",
        " \n",
        "    total = total + list1[ele]\n",
        " \n",
        "print(\"Largest element is:\", list1[-1])\n",
        " \n",
        "print(\"Smallest  elements is: \", *list1[:1])\n",
        " \n",
        "print(\"Average of the list =\", round(average, 2))\n",
        " \n",
        "print(\"Sum of all elements in given list: \", total)"
      ],
      "execution_count": 28,
      "outputs": [
        {
          "output_type": "stream",
          "text": [
            "Largest element is: 99\n",
            "Smallest  elements is:  1\n",
            "Average of the list = 41.27\n",
            "Sum of all elements in given list:  454\n"
          ],
          "name": "stdout"
        }
      ]
    }
  ]
}